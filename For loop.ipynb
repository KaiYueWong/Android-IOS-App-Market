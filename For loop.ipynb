{
 "cells": [
  {
   "cell_type": "markdown",
   "metadata": {},
   "source": [
    "[Link To Reason](https://stackoverflow.com/questions/39941393/python-loop-a-list-of-list-and-assign-value-inside-the-loop)"
   ]
  },
  {
   "cell_type": "code",
   "execution_count": 21,
   "metadata": {},
   "outputs": [
    {
     "name": "stdout",
     "output_type": "stream",
     "text": [
      "Hello : [['Hello', 'range', 'price'], ['Tesla Model 3 LR', '310', '49900'], ['Hyundai Ioniq EV', '124', '30315'], ['Chevy Bolt', '238', '36620']]\n",
      "Hello : [['Hello', 'range', 'price'], ['Hello', '310', '49900'], ['Hyundai Ioniq EV', '124', '30315'], ['Chevy Bolt', '238', '36620']]\n",
      "Hello : [['Hello', 'range', 'price'], ['Hello', '310', '49900'], ['Hello', '124', '30315'], ['Chevy Bolt', '238', '36620']]\n",
      "Hello : [['Hello', 'range', 'price'], ['Hello', '310', '49900'], ['Hello', '124', '30315'], ['Hello', '238', '36620']]\n"
     ]
    }
   ],
   "source": [
    "ev_data = [['vehicle', 'range', 'price'],\n",
    "           ['Tesla Model 3 LR', '310', '49900'],\n",
    "           ['Hyundai Ioniq EV', '124', '30315'],\n",
    "           ['Chevy Bolt', '238', '36620']]\n",
    "\n",
    "for i in ev_data:\n",
    "    i[0] = 'Hello'\n",
    "    print(i[0], ':', ev_data)\n",
    "\n"
   ]
  },
  {
   "cell_type": "code",
   "execution_count": 19,
   "metadata": {},
   "outputs": [
    {
     "name": "stdout",
     "output_type": "stream",
     "text": [
      "fuck : [['vehicle', 'range', 'price'], ['Tesla Model 3 LR', '310', '49900'], ['Hyundai Ioniq EV', '124', '30315'], ['Chevy Bolt', '238', '36620']]\n",
      "fuck : [['vehicle', 'range', 'price'], ['Tesla Model 3 LR', '310', '49900'], ['Hyundai Ioniq EV', '124', '30315'], ['Chevy Bolt', '238', '36620']]\n",
      "fuck : [['vehicle', 'range', 'price'], ['Tesla Model 3 LR', '310', '49900'], ['Hyundai Ioniq EV', '124', '30315'], ['Chevy Bolt', '238', '36620']]\n",
      "fuck : [['vehicle', 'range', 'price'], ['Tesla Model 3 LR', '310', '49900'], ['Hyundai Ioniq EV', '124', '30315'], ['Chevy Bolt', '238', '36620']]\n"
     ]
    }
   ],
   "source": [
    "ev_data = [['vehicle', 'range', 'price'],\n",
    "           ['Tesla Model 3 LR', '310', '49900'],\n",
    "           ['Hyundai Ioniq EV', '124', '30315'],\n",
    "           ['Chevy Bolt', '238', '36620']]\n",
    "\n",
    "for i in ev_data:\n",
    "    i = 'fuck'\n",
    "    print(i, ':', ev_data)"
   ]
  },
  {
   "cell_type": "code",
   "execution_count": null,
   "metadata": {},
   "outputs": [],
   "source": []
  }
 ],
 "metadata": {
  "kernelspec": {
   "display_name": "Python 3",
   "language": "python",
   "name": "python3"
  },
  "language_info": {
   "codemirror_mode": {
    "name": "ipython",
    "version": 3
   },
   "file_extension": ".py",
   "mimetype": "text/x-python",
   "name": "python",
   "nbconvert_exporter": "python",
   "pygments_lexer": "ipython3",
   "version": "3.7.6"
  }
 },
 "nbformat": 4,
 "nbformat_minor": 4
}
